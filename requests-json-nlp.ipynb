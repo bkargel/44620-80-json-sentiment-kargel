{
 "cells": [
  {
   "cell_type": "markdown",
   "metadata": {},
   "source": [
    "# Web Mining and Applied NLP (44-620)\n",
    "\n",
    "## Requests, JSON, and NLP\n",
    "\n",
    "### Student Name: Brendi Kargel\n",
    "\n",
    "https://github.com/bkargel/44620-80-json-sentiment-kargel\n",
    "\n",
    "Perform the tasks described in the Markdown cells below.  When you have completed the assignment make sure your code cells have all been run (and have output beneath them) and ensure you have committed and pushed ALL of your changes to your assignment repository.\n",
    "\n",
    "Make sure you have [installed spaCy and its pipeline](https://spacy.io/usage#quickstart) and [spaCyTextBlob](https://spacy.io/universe/project/spacy-textblob)\n",
    "\n",
    "Every question that requires you to write code will have a code cell underneath it; you may either write your entire solution in that cell or write it in a python file (`.py`), then import and run the appropriate code to answer the question.\n",
    "\n",
    "This assignment requires that you write additional files (either JSON or pickle files); make sure to submit those files in your repository as well."
   ]
  },
  {
   "cell_type": "markdown",
   "metadata": {},
   "source": [
    "## Question 1"
   ]
  },
  {
   "cell_type": "markdown",
   "metadata": {},
   "source": [
    "1. The following code accesses the [lyrics.ovh](https://lyricsovh.docs.apiary.io/#reference/0/lyrics-of-a-song/search) public api, searches for the lyrics of a song, and stores it in a dictionary object.  Write the resulting json to a file (either a JSON file or a pickle file; you choose). You will read in the contents of this file for future questions so we do not need to frequently access the API."
   ]
  },
  {
   "cell_type": "code",
   "execution_count": 1,
   "metadata": {},
   "outputs": [
    {
     "name": "stdout",
     "output_type": "stream",
     "text": [
      "Once upon a time\n",
      "Not so long ago\n",
      "\n",
      "Tommy used to work on the docks\n",
      "Union's been on strike\n",
      "He's down on his luck; it's tough\n",
      "So tough\n",
      "Gina works the diner all day\n",
      "Working for her man\n",
      "She brings home her pay for love\n",
      "For love\n",
      "\n",
      "She says we've got to hold on to what we've got\n",
      "It doesn't make a difference if we make it or not\n",
      "We've got each other, and that's a lot for love\n",
      "We'll give it a shot\n",
      "\n",
      "Oh, we're half way there\n",
      "Whoa-oh, livin' on a prayer\n",
      "Take my hand, we'll make it, I swear\n",
      "Whoa-oh, livin' on a prayer\n",
      "\n",
      "Tommy's got his six string in hock\n",
      "Now he's holding in what he used\n",
      "To make it talk so tough\n",
      "It's tough\n",
      "Gina dreams of running away\n",
      "When she cries in the night Tommy whispers\n",
      "Baby it's okay\n",
      "Someday\n",
      "\n",
      "We've got to hold on to what we've got\n",
      "It doesn't make a difference if we make it or not\n",
      "We've got each other, and that's a lot for love\n",
      "We'll give it a shot\n",
      "\n",
      "Oh, we're half way there\n",
      "Whoa-oh, livin' on a prayer\n",
      "Take my hand, we'll make it, I swear\n",
      "Whoa-oh, livin' on a prayer\n",
      "\n",
      "Livin' on a prayer!\n",
      "\n",
      "We've got to hold on\n",
      "Ready or not\n",
      "You live for the fight when that's all that you've got\n",
      "\n",
      "Whoa, we're half way there\n",
      "Whoa-oh, livin' on a prayer\n",
      "Take my hand and we'll make it, I swear\n",
      "Whoa-oh, livin' on a prayer\n",
      "\n",
      "Whoa, we're half way there\n",
      "Whoa-oh, livin' on a prayer\n",
      "Take my hand and we'll make it, I swear\n",
      "Whoa-oh, livin' on a prayer\n",
      "\n",
      "Whoa, we're half way there\n",
      "Whoa-oh, livin' on a prayer\n",
      "Take my hand and we'll make it, I swear\n",
      "[Fades out]\n"
     ]
    }
   ],
   "source": [
    "import requests\n",
    "import json\n",
    "import xmltodict\n",
    "\n",
    "response_body = requests.get('http://api.chartlyrics.com/apiv1.asmx/SearchLyricDirect?artist=bon%20jovi&song=living%20on%20a%20prayer').text\n",
    "result = xmltodict.parse(response_body)\n",
    "data = json.dumps(result)\n",
    "song = json.loads(data)\n",
    "\n",
    "with open(\"song.json\", \"w\") as outfile:\n",
    "    outfile.write(result['GetLyricResult']['Lyric'])\n",
    "\n",
    "print(result['GetLyricResult']['Lyric'])"
   ]
  },
  {
   "cell_type": "markdown",
   "metadata": {},
   "source": [
    "## Question 2"
   ]
  },
  {
   "cell_type": "markdown",
   "metadata": {},
   "source": [
    "2. Read in the contents of your file.  Print the lyrics of the song (not the entire dictionary!) and use spaCyTextBlob to perform sentiment analysis on the lyrics.  Print the polarity score of the sentiment analysis.  Given that the range of the polarity score is `[-1.0,1.0]` which corresponds to how positive or negative the text in question is, do you think the lyrics have a more positive or negative connotaion?  Answer this question in a comment in your code cell."
   ]
  },
  {
   "cell_type": "code",
   "execution_count": 2,
   "metadata": {},
   "outputs": [
    {
     "data": {
      "text/plain": [
       "-0.002487373737373735"
      ]
     },
     "execution_count": 2,
     "metadata": {},
     "output_type": "execute_result"
    }
   ],
   "source": [
    "import spacy\n",
    "from spacytextblob.spacytextblob import SpacyTextBlob\n",
    "\n",
    "nlp = spacy.load('en_core_web_sm')\n",
    "nlp.add_pipe('spacytextblob')\n",
    "with open('song.json') as f:\n",
    "    lyrics = f.read()\n",
    "doc = nlp(lyrics)\n",
    "doc._.blob.polarity "
   ]
  },
  {
   "cell_type": "markdown",
   "metadata": {},
   "source": [
    "*The polarity of the song is very close to zero, which is neutral, but skewing slightly toward a negative connotation. I think that the song is about finding good in the negative things that are happening in life, so a slightly negative polarity makes sense.*"
   ]
  },
  {
   "cell_type": "markdown",
   "metadata": {},
   "source": [
    "## Question 3"
   ]
  },
  {
   "cell_type": "markdown",
   "metadata": {},
   "source": [
    "3. Write a function that takes an artist, song, and filename, accesses the lyrics.ovh api to get the song lyrics, and writes the results to the specified filename.  Test this function by getting the lyrics to any four songs of your choice and storing them in different files."
   ]
  },
  {
   "cell_type": "code",
   "execution_count": 3,
   "metadata": {},
   "outputs": [
    {
     "name": "stdin",
     "output_type": "stream",
     "text": [
      "Artist: Madonna\n",
      "Song: Holiday\n",
      "Artist: Faith Hill\n",
      "Song: Breathe\n",
      "Artist: Def Leppard\n",
      "Song: Pour Some Sugar on Me\n",
      "Artist: Aerosmith\n",
      "Song: Crazy\n"
     ]
    }
   ],
   "source": [
    "import requests\n",
    "import json\n",
    "import xmltodict\n",
    "import os\n",
    "    \n",
    "def lyrics_grab():\n",
    "    website = 'http://api.chartlyrics.com/apiv1.asmx/SearchLyricDirect?'\n",
    "    artist = 'artist=' + input(\"Artist:\")\n",
    "    artist.strip\n",
    "    artist = artist.replace(\" \",\"%20\")\n",
    "    song = 'song=' + input(\"Song:\")\n",
    "    song.strip\n",
    "    song = song.replace(\" \",\"%20\")\n",
    "    goto = website + artist + '&' + song\n",
    "    response_body = requests.get(goto).text\n",
    "    results = xmltodict.parse(response_body)\n",
    "    data = json.dumps(results)\n",
    "    song_lyrics = json.loads(data)\n",
    "    filename = song + '.json'\n",
    "    if(os.path.exists(filename)):\n",
    "            os.remove(filename)\n",
    "    with open(filename, 'x') as f:\n",
    "            f.write(song_lyrics['GetLyricResult']['Lyric'])\n",
    "\n",
    "for i in range(4):\n",
    "    lyrics_grab()\n",
    "   "
   ]
  },
  {
   "cell_type": "markdown",
   "metadata": {},
   "source": [
    "## Question 4"
   ]
  },
  {
   "cell_type": "markdown",
   "metadata": {},
   "source": [
    "4. Write a function that takes the name of a file that contains song lyrics, loads the file, performs sentiment analysis, and returns the polarity score.  Use this function to print the polarity scores (with the name of the song) of the three files you created in question 3.  Does the reported polarity match your understanding of the song's lyrics? Why or why not do you think that might be?  Answer the questions in either a comment in the code cell or a markdown cell under the code cell."
   ]
  },
  {
   "cell_type": "code",
   "execution_count": 4,
   "metadata": {},
   "outputs": [
    {
     "name": "stdout",
     "output_type": "stream",
     "text": [
      "Polarity of song=Breathe.json : 0.1473922902494331\n",
      "Polarity of song=Crazy.json : -0.2617224367224366\n",
      "Polarity of song=Holiday.json : 0.28055555555555556\n",
      "Polarity of song=Pour%20Some%20Sugar%20on%20Me.json : 0.24370325854700853\n"
     ]
    }
   ],
   "source": [
    "import spacy\n",
    "from spacytextblob.spacytextblob import SpacyTextBlob\n",
    "import glob\n",
    "\n",
    "filenameglob = glob.glob('**/*.json', recursive = True)\n",
    "\n",
    "def polarity_score():\n",
    "    with open(filenameglob[i], \"r\") as f:\n",
    "            lyrics = f.read()\n",
    "            nlp = spacy.load('en_core_web_sm')\n",
    "            nlp.add_pipe(\"spacytextblob\")\n",
    "            doc = nlp(lyrics)\n",
    "            doc._.blob.subjectivity                        \n",
    "            doc._.blob.sentiment_assessments.assessments   \n",
    "            print(\"Polarity of\", filenameglob[i],\":\", doc._.blob.polarity)\n",
    "            \n",
    "for i in range(1, len(filenameglob)):\n",
    "    polarity_score()"
   ]
  },
  {
   "cell_type": "markdown",
   "metadata": {},
   "source": [
    "*\"Breathe\" by Faith Hill is a positive song about love. I agree with the positive polarity, but I would've thought it would be closer to one.*\n",
    "\n",
    "*Although I don't think that \"Crazy\" by Aerosmith is meant to have a negative connotation, when looking only the lyrics, it would appear negative. The girl is planning to leave and it's driving him crazy, but what the polarity doesn't capture is that it's a good kind of crazy.*\n",
    "\n",
    "*\"Holiday\" by Madonna and \"Pour Some Sugar on Me\" by Def Leppard are fun songs and I definitely agree with the positive polarity on both, but, again, they're fun songs. I would expect a higher positive polarity.*"
   ]
  },
  {
   "cell_type": "code",
   "execution_count": null,
   "metadata": {},
   "outputs": [],
   "source": []
  }
 ],
 "metadata": {
  "kernelspec": {
   "display_name": "Python 3 (ipykernel)",
   "language": "python",
   "name": "python3"
  },
  "language_info": {
   "codemirror_mode": {
    "name": "ipython",
    "version": 3
   },
   "file_extension": ".py",
   "mimetype": "text/x-python",
   "name": "python",
   "nbconvert_exporter": "python",
   "pygments_lexer": "ipython3",
   "version": "3.9.12"
  }
 },
 "nbformat": 4,
 "nbformat_minor": 4
}
